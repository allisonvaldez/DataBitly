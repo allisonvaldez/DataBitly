{
 "cells": [
  {
   "cell_type": "code",
   "execution_count": 5,
   "id": "520e6aad-f799-4f50-9d69-e0f7cbbe60b7",
   "metadata": {},
   "outputs": [],
   "source": [
    "# Import any dependencies \n",
    "import os, os.path, json "
   ]
  },
  {
   "cell_type": "code",
   "execution_count": 9,
   "id": "80c1305f-a3db-4d9c-9d3c-d8cc3eda5381",
   "metadata": {},
   "outputs": [],
   "source": [
    "# Path for the data\n",
    "path = 'example.txt'"
   ]
  },
  {
   "cell_type": "code",
   "execution_count": 13,
   "id": "f13047e2-63d0-442a-ad45-1c60cf17f52c",
   "metadata": {},
   "outputs": [
    {
     "data": {
      "text/plain": [
       "'{ \"a\": \"Mozilla\\\\/5.0 (Windows NT 6.1; WOW64) AppleWebKit\\\\/535.11 (KHTML, like Gecko) Chrome\\\\/17.0.963.78 Safari\\\\/535.11\", \"c\": \"US\", \"nk\": 1, \"tz\": \"America\\\\/New_York\", \"gr\": \"MA\", \"g\": \"A6qOVH\", \"h\": \"wfLQtf\", \"l\": \"orofrog\", \"al\": \"en-US,en;q=0.8\", \"hh\": \"1.usa.gov\", \"r\": \"http:\\\\/\\\\/www.facebook.com\\\\/l\\\\/7AQEFzjSi\\\\/1.usa.gov\\\\/wfLQtf\", \"u\": \"http:\\\\/\\\\/www.ncbi.nlm.nih.gov\\\\/pubmed\\\\/22415991\", \"t\": 1331923247, \"hc\": 1331822918, \"cy\": \"Danvers\", \"ll\": [ 42.576698, -70.954903 ] }\\n'"
      ]
     },
     "execution_count": 13,
     "metadata": {},
     "output_type": "execute_result"
    }
   ],
   "source": [
    "# Preview the data \n",
    "open(path).readline()"
   ]
  },
  {
   "cell_type": "code",
   "execution_count": 17,
   "id": "b54a5a71-7251-4f75-b7a2-af598506bc3a",
   "metadata": {},
   "outputs": [],
   "source": [
    "# Utilize the json module and loads function to convert the JSON file into a \n",
    "# python dictionary object\n",
    "records = [json.loads(line) for line in open(path)]"
   ]
  },
  {
   "cell_type": "code",
   "execution_count": 23,
   "id": "3d26bfe5-71b5-4d0e-bf53-62032b332736",
   "metadata": {},
   "outputs": [
    {
     "data": {
      "text/plain": [
       "{'a': 'Mozilla/5.0 (Windows NT 6.1; WOW64) AppleWebKit/535.11 (KHTML, like Gecko) Chrome/17.0.963.78 Safari/535.11',\n",
       " 'c': 'US',\n",
       " 'nk': 1,\n",
       " 'tz': 'America/New_York',\n",
       " 'gr': 'MA',\n",
       " 'g': 'A6qOVH',\n",
       " 'h': 'wfLQtf',\n",
       " 'l': 'orofrog',\n",
       " 'al': 'en-US,en;q=0.8',\n",
       " 'hh': '1.usa.gov',\n",
       " 'r': 'http://www.facebook.com/l/7AQEFzjSi/1.usa.gov/wfLQtf',\n",
       " 'u': 'http://www.ncbi.nlm.nih.gov/pubmed/22415991',\n",
       " 't': 1331923247,\n",
       " 'hc': 1331822918,\n",
       " 'cy': 'Danvers',\n",
       " 'll': [42.576698, -70.954903]}"
      ]
     },
     "execution_count": 23,
     "metadata": {},
     "output_type": "execute_result"
    }
   ],
   "source": [
    "# Preview the data as a list of python dictionaries \n",
    "records[0]"
   ]
  },
  {
   "cell_type": "code",
   "execution_count": 26,
   "id": "433ed493-d88f-457d-8129-7c17bd5c5105",
   "metadata": {},
   "outputs": [],
   "source": [
    "# Continue endevour of comparing counting timezones in pure python. First find\n",
    "# the most common timezones in the dataset.\n",
    "time_zones = [rec['tz'] for rec in records if 'tz' in rec]"
   ]
  },
  {
   "cell_type": "code",
   "execution_count": 28,
   "id": "b7a50718-57ea-43b0-9cc4-9916f2cb640b",
   "metadata": {},
   "outputs": [
    {
     "data": {
      "text/plain": [
       "['America/New_York',\n",
       " 'America/Denver',\n",
       " 'America/New_York',\n",
       " 'America/Sao_Paulo',\n",
       " 'America/New_York',\n",
       " 'America/New_York',\n",
       " 'Europe/Warsaw',\n",
       " '',\n",
       " '',\n",
       " '']"
      ]
     },
     "execution_count": 28,
     "metadata": {},
     "output_type": "execute_result"
    }
   ],
   "source": [
    "# Preview the data \n",
    "time_zones[:10]"
   ]
  },
  {
   "cell_type": "code",
   "execution_count": null,
   "id": "2e02aff4-288b-4393-b6e4-8a372aed72ef",
   "metadata": {},
   "outputs": [],
   "source": [
    "# Continue manipulating the data by filtering out empty strings. We will begin \n",
    "# the analysis by counting sequences. This is by far the hard way, proper \n",
    "# methodology would have been doing this through pandas. This uses only \n",
    "# Python's standard libraries. Create a dictionary to store the count as we \n",
    "# iterate though the sequence."
   ]
  }
 ],
 "metadata": {
  "kernelspec": {
   "display_name": "Python [conda env:base] *",
   "language": "python",
   "name": "conda-base-py"
  },
  "language_info": {
   "codemirror_mode": {
    "name": "ipython",
    "version": 3
   },
   "file_extension": ".py",
   "mimetype": "text/x-python",
   "name": "python",
   "nbconvert_exporter": "python",
   "pygments_lexer": "ipython3",
   "version": "3.12.7"
  }
 },
 "nbformat": 4,
 "nbformat_minor": 5
}
