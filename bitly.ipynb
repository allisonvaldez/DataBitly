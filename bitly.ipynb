{
 "cells": [
  {
   "cell_type": "markdown",
   "id": "e249d62e-fe1e-4961-8b2c-306081e7f0f1",
   "metadata": {},
   "source": [
    "# USA.Gov Data From Bitly\n",
    "This is an analysis that explores the partnership between the US government and Bitly. The contract provided a feed of anonymous data collected from users who shorted website links ending with .gov or .mil. Hourly snapshots were provided on the dynamic information as well as downloadable text files. Unfortunately, the project is no longer active between the two entities. If there are any questions or concerns the author may be contacted to discuss analysis and methodology."
   ]
  },
  {
   "cell_type": "code",
   "execution_count": 220,
   "id": "520e6aad-f799-4f50-9d69-e0f7cbbe60b7",
   "metadata": {},
   "outputs": [],
   "source": [
    "# Import any dependencies \n",
    "import os, os.path, json\n",
    "import numpy as np "
   ]
  },
  {
   "cell_type": "code",
   "execution_count": 222,
   "id": "80c1305f-a3db-4d9c-9d3c-d8cc3eda5381",
   "metadata": {},
   "outputs": [],
   "source": [
    "# Path for the data\n",
    "path = 'example.txt'"
   ]
  },
  {
   "cell_type": "code",
   "execution_count": 224,
   "id": "f13047e2-63d0-442a-ad45-1c60cf17f52c",
   "metadata": {},
   "outputs": [
    {
     "data": {
      "text/plain": [
       "'{ \"a\": \"Mozilla\\\\/5.0 (Windows NT 6.1; WOW64) AppleWebKit\\\\/535.11 (KHTML, like Gecko) Chrome\\\\/17.0.963.78 Safari\\\\/535.11\", \"c\": \"US\", \"nk\": 1, \"tz\": \"America\\\\/New_York\", \"gr\": \"MA\", \"g\": \"A6qOVH\", \"h\": \"wfLQtf\", \"l\": \"orofrog\", \"al\": \"en-US,en;q=0.8\", \"hh\": \"1.usa.gov\", \"r\": \"http:\\\\/\\\\/www.facebook.com\\\\/l\\\\/7AQEFzjSi\\\\/1.usa.gov\\\\/wfLQtf\", \"u\": \"http:\\\\/\\\\/www.ncbi.nlm.nih.gov\\\\/pubmed\\\\/22415991\", \"t\": 1331923247, \"hc\": 1331822918, \"cy\": \"Danvers\", \"ll\": [ 42.576698, -70.954903 ] }\\n'"
      ]
     },
     "execution_count": 224,
     "metadata": {},
     "output_type": "execute_result"
    }
   ],
   "source": [
    "# Preview the data \n",
    "open(path).readline()"
   ]
  },
  {
   "cell_type": "code",
   "execution_count": 226,
   "id": "b54a5a71-7251-4f75-b7a2-af598506bc3a",
   "metadata": {},
   "outputs": [],
   "source": [
    "# Utilize the json module and loads function to convert the JSON file into a \n",
    "# python dictionary object\n",
    "records = [json.loads(line) for line in open(path)]"
   ]
  },
  {
   "cell_type": "code",
   "execution_count": 228,
   "id": "3d26bfe5-71b5-4d0e-bf53-62032b332736",
   "metadata": {},
   "outputs": [
    {
     "data": {
      "text/plain": [
       "{'a': 'Mozilla/5.0 (Windows NT 6.1; WOW64) AppleWebKit/535.11 (KHTML, like Gecko) Chrome/17.0.963.78 Safari/535.11',\n",
       " 'c': 'US',\n",
       " 'nk': 1,\n",
       " 'tz': 'America/New_York',\n",
       " 'gr': 'MA',\n",
       " 'g': 'A6qOVH',\n",
       " 'h': 'wfLQtf',\n",
       " 'l': 'orofrog',\n",
       " 'al': 'en-US,en;q=0.8',\n",
       " 'hh': '1.usa.gov',\n",
       " 'r': 'http://www.facebook.com/l/7AQEFzjSi/1.usa.gov/wfLQtf',\n",
       " 'u': 'http://www.ncbi.nlm.nih.gov/pubmed/22415991',\n",
       " 't': 1331923247,\n",
       " 'hc': 1331822918,\n",
       " 'cy': 'Danvers',\n",
       " 'll': [42.576698, -70.954903]}"
      ]
     },
     "execution_count": 228,
     "metadata": {},
     "output_type": "execute_result"
    }
   ],
   "source": [
    "# Preview the data as a list of python dictionaries \n",
    "records[0]"
   ]
  },
  {
   "cell_type": "code",
   "execution_count": 230,
   "id": "433ed493-d88f-457d-8129-7c17bd5c5105",
   "metadata": {},
   "outputs": [],
   "source": [
    "# Continue endevour of comparing counting timezones in pure python. First find\n",
    "# the most common timezones in the dataset.\n",
    "time_zones = [rec['tz'] for rec in records if 'tz' in rec]"
   ]
  },
  {
   "cell_type": "code",
   "execution_count": 232,
   "id": "b7a50718-57ea-43b0-9cc4-9916f2cb640b",
   "metadata": {},
   "outputs": [
    {
     "data": {
      "text/plain": [
       "['America/New_York',\n",
       " 'America/Denver',\n",
       " 'America/New_York',\n",
       " 'America/Sao_Paulo',\n",
       " 'America/New_York',\n",
       " 'America/New_York',\n",
       " 'Europe/Warsaw',\n",
       " '',\n",
       " '',\n",
       " '']"
      ]
     },
     "execution_count": 232,
     "metadata": {},
     "output_type": "execute_result"
    }
   ],
   "source": [
    "# Preview the data \n",
    "time_zones[:10]"
   ]
  },
  {
   "cell_type": "code",
   "execution_count": 234,
   "id": "2e02aff4-288b-4393-b6e4-8a372aed72ef",
   "metadata": {},
   "outputs": [],
   "source": [
    "# Continue manipulating the data by filtering out empty strings. We will begin \n",
    "# the analysis by counting sequences. This is by far the hard way, proper \n",
    "# methodology would have been doing this through pandas. This uses only \n",
    "# Python's standard libraries. We start by creating a dictionary to store the \n",
    "# count as we iterate though the sequence.\n",
    "def get_counts(sequence):\n",
    "    counts = {}\n",
    "    for x in sequence:\n",
    "        if x in counts:\n",
    "            counts[x] += 1\n",
    "        else:\n",
    "            counts[x] = 1\n",
    "    return counts"
   ]
  },
  {
   "cell_type": "code",
   "execution_count": 236,
   "id": "9d18136d-0be5-4b3b-bdae-2bb7e37c48af",
   "metadata": {},
   "outputs": [],
   "source": [
    "counts = get_counts(time_zones)"
   ]
  },
  {
   "cell_type": "code",
   "execution_count": 238,
   "id": "387b3c3c-b13d-44d8-bd00-89e20ec1afc7",
   "metadata": {},
   "outputs": [
    {
     "data": {
      "text/plain": [
       "1251"
      ]
     },
     "execution_count": 238,
     "metadata": {},
     "output_type": "execute_result"
    }
   ],
   "source": [
    "# Preview the data \n",
    "counts['America/New_York']"
   ]
  },
  {
   "cell_type": "code",
   "execution_count": 240,
   "id": "aea9802e-e696-4685-b860-f695ca8715e5",
   "metadata": {},
   "outputs": [
    {
     "data": {
      "text/plain": [
       "3440"
      ]
     },
     "execution_count": 240,
     "metadata": {},
     "output_type": "execute_result"
    }
   ],
   "source": [
    "len(time_zones)"
   ]
  },
  {
   "cell_type": "code",
   "execution_count": 242,
   "id": "067f625b-d808-40b4-b268-1e24ea26dd33",
   "metadata": {},
   "outputs": [],
   "source": [
    "# Find the most popular timezones and their usage frequency. We will create a \n",
    "# list of tuples where each tuple holds (count, tz). We then sort the list of\n",
    "# tuples based on the first element (count). I return the last n items from \n",
    "# the sorted list (highest counts)\n",
    "def top_counts(count_dict, n=10): \n",
    "    value_key_pairs = [(count, tz) for tz, count in count_dict.items()]\n",
    "    value_key_pairs.sort()\n",
    "    return value_key_pairs[-n:]"
   ]
  },
  {
   "cell_type": "code",
   "execution_count": 244,
   "id": "0a1523ed-1587-4511-86bd-8082de915108",
   "metadata": {},
   "outputs": [
    {
     "data": {
      "text/plain": [
       "[(33, 'America/Sao_Paulo'),\n",
       " (35, 'Europe/Madrid'),\n",
       " (36, 'Pacific/Honolulu'),\n",
       " (37, 'Asia/Tokyo'),\n",
       " (74, 'Europe/London'),\n",
       " (191, 'America/Denver'),\n",
       " (382, 'America/Los_Angeles'),\n",
       " (400, 'America/Chicago'),\n",
       " (521, ''),\n",
       " (1251, 'America/New_York')]"
      ]
     },
     "execution_count": 244,
     "metadata": {},
     "output_type": "execute_result"
    }
   ],
   "source": [
    "# Preview Data\n",
    "top_counts(counts)"
   ]
  },
  {
   "cell_type": "code",
   "execution_count": 246,
   "id": "ca564c8f-fa0b-495b-8831-ec4838b8603e",
   "metadata": {},
   "outputs": [],
   "source": [
    "# Conversely an easier way to perform the same action is to use the \n",
    "# collections.Counter class\n",
    "from collections import Counter "
   ]
  },
  {
   "cell_type": "code",
   "execution_count": 248,
   "id": "487cab38-808b-4bec-b94b-fa37596b52a4",
   "metadata": {},
   "outputs": [],
   "source": [
    "counts = Counter(time_zones)"
   ]
  },
  {
   "cell_type": "code",
   "execution_count": 250,
   "id": "38015922-fe75-4324-8ea0-7dd1db9a1c3e",
   "metadata": {},
   "outputs": [
    {
     "data": {
      "text/plain": [
       "[('America/New_York', 1251),\n",
       " ('', 521),\n",
       " ('America/Chicago', 400),\n",
       " ('America/Los_Angeles', 382),\n",
       " ('America/Denver', 191),\n",
       " ('Europe/London', 74),\n",
       " ('Asia/Tokyo', 37),\n",
       " ('Pacific/Honolulu', 36),\n",
       " ('Europe/Madrid', 35),\n",
       " ('America/Sao_Paulo', 33)]"
      ]
     },
     "execution_count": 250,
     "metadata": {},
     "output_type": "execute_result"
    }
   ],
   "source": [
    "counts.most_common(10)"
   ]
  },
  {
   "cell_type": "code",
   "execution_count": 252,
   "id": "c21ca6e5-e714-44f3-87a6-cbaf9608b43a",
   "metadata": {},
   "outputs": [],
   "source": [
    "# Continue now to display the same application but using pandas begin by \n",
    "# importing any dependencies\n",
    "import pandas as pd"
   ]
  },
  {
   "cell_type": "code",
   "execution_count": 254,
   "id": "2e77041e-7874-45ed-b5a9-f366a7756ccf",
   "metadata": {},
   "outputs": [],
   "source": [
    "# Define the dataframe \n",
    "frame = pd.DataFrame(records)"
   ]
  },
  {
   "cell_type": "code",
   "execution_count": 256,
   "id": "e7ba287f-3687-434d-912f-4277e9140952",
   "metadata": {},
   "outputs": [
    {
     "name": "stdout",
     "output_type": "stream",
     "text": [
      "<class 'pandas.core.frame.DataFrame'>\n",
      "RangeIndex: 3560 entries, 0 to 3559\n",
      "Data columns (total 18 columns):\n",
      " #   Column       Non-Null Count  Dtype  \n",
      "---  ------       --------------  -----  \n",
      " 0   a            3440 non-null   object \n",
      " 1   c            2919 non-null   object \n",
      " 2   nk           3440 non-null   float64\n",
      " 3   tz           3440 non-null   object \n",
      " 4   gr           2919 non-null   object \n",
      " 5   g            3440 non-null   object \n",
      " 6   h            3440 non-null   object \n",
      " 7   l            3440 non-null   object \n",
      " 8   al           3094 non-null   object \n",
      " 9   hh           3440 non-null   object \n",
      " 10  r            3440 non-null   object \n",
      " 11  u            3440 non-null   object \n",
      " 12  t            3440 non-null   float64\n",
      " 13  hc           3440 non-null   float64\n",
      " 14  cy           2919 non-null   object \n",
      " 15  ll           2919 non-null   object \n",
      " 16  _heartbeat_  120 non-null    float64\n",
      " 17  kw           93 non-null     object \n",
      "dtypes: float64(4), object(14)\n",
      "memory usage: 500.8+ KB\n"
     ]
    }
   ],
   "source": [
    "frame.info()"
   ]
  },
  {
   "cell_type": "code",
   "execution_count": 258,
   "id": "b3448561-10cf-4dcc-81fc-1b03d87ca051",
   "metadata": {},
   "outputs": [
    {
     "data": {
      "text/plain": [
       "0     America/New_York\n",
       "1       America/Denver\n",
       "2     America/New_York\n",
       "3    America/Sao_Paulo\n",
       "4     America/New_York\n",
       "5     America/New_York\n",
       "6        Europe/Warsaw\n",
       "7                     \n",
       "8                     \n",
       "9                     \n",
       "Name: tz, dtype: object"
      ]
     },
     "execution_count": 258,
     "metadata": {},
     "output_type": "execute_result"
    }
   ],
   "source": [
    "# Preview the data \n",
    "frame['tz'][:10]"
   ]
  },
  {
   "cell_type": "code",
   "execution_count": 260,
   "id": "08e27fcf-42ac-404f-bedd-87cc8efba282",
   "metadata": {},
   "outputs": [],
   "source": [
    "# Preview the data for better understanding of the data using value_counts \n",
    "# method for Series \n",
    "tz_counts = frame['tz'].value_counts()"
   ]
  },
  {
   "cell_type": "code",
   "execution_count": 262,
   "id": "3031c2dd-888f-4c2c-90c9-46bba91da399",
   "metadata": {},
   "outputs": [
    {
     "data": {
      "text/plain": [
       "tz\n",
       "America/New_York       1251\n",
       "                        521\n",
       "America/Chicago         400\n",
       "America/Los_Angeles     382\n",
       "America/Denver          191\n",
       "Europe/London            74\n",
       "Asia/Tokyo               37\n",
       "Pacific/Honolulu         36\n",
       "Europe/Madrid            35\n",
       "America/Sao_Paulo        33\n",
       "Name: count, dtype: int64"
      ]
     },
     "execution_count": 262,
     "metadata": {},
     "output_type": "execute_result"
    }
   ],
   "source": [
    "tz_counts[:10]"
   ]
  },
  {
   "cell_type": "code",
   "execution_count": 264,
   "id": "636bc999-a3ae-4903-950f-45281a4c8cbb",
   "metadata": {},
   "outputs": [],
   "source": [
    "# Visualize the data with matplotlib take care of any unknown and missing \n",
    "# timezone data.\n",
    "clean_tz = frame['tz'].fillna('Missing')"
   ]
  },
  {
   "cell_type": "code",
   "execution_count": 266,
   "id": "f327fd67-0804-4a7c-81b7-b5b9ed793d04",
   "metadata": {},
   "outputs": [],
   "source": [
    "clean_tz[clean_tz == ''] = 'Unknown'"
   ]
  },
  {
   "cell_type": "code",
   "execution_count": 268,
   "id": "68ed5097-f900-404e-9960-d7b04e07a4b2",
   "metadata": {},
   "outputs": [],
   "source": [
    "# Preview data\n",
    "tz_counts = clean_tz.value_counts()"
   ]
  },
  {
   "cell_type": "code",
   "execution_count": 270,
   "id": "1b650313-2820-476c-ad23-229456210149",
   "metadata": {},
   "outputs": [
    {
     "data": {
      "text/plain": [
       "tz\n",
       "America/New_York       1251\n",
       "Unknown                 521\n",
       "America/Chicago         400\n",
       "America/Los_Angeles     382\n",
       "America/Denver          191\n",
       "Missing                 120\n",
       "Europe/London            74\n",
       "Asia/Tokyo               37\n",
       "Pacific/Honolulu         36\n",
       "Europe/Madrid            35\n",
       "Name: count, dtype: int64"
      ]
     },
     "execution_count": 270,
     "metadata": {},
     "output_type": "execute_result"
    }
   ],
   "source": [
    "tz_counts[:10]"
   ]
  },
  {
   "cell_type": "code",
   "execution_count": 272,
   "id": "ae665388-b62f-4c02-a05f-305c4f0a4b20",
   "metadata": {},
   "outputs": [],
   "source": [
    "# Utilize the Seaborn package for visualization via a horizontal bar plot. \n",
    "import seaborn as sns"
   ]
  },
  {
   "cell_type": "code",
   "execution_count": 274,
   "id": "ec64bba2-addc-473f-9b00-15ce92df987f",
   "metadata": {},
   "outputs": [],
   "source": [
    "subset = tz_counts[:10]"
   ]
  },
  {
   "cell_type": "code",
   "execution_count": 276,
   "id": "dd4baa30-c7b8-4d8a-8d9f-217b3633bde7",
   "metadata": {},
   "outputs": [
    {
     "data": {
      "text/plain": [
       "<Axes: ylabel='tz'>"
      ]
     },
     "execution_count": 276,
     "metadata": {},
     "output_type": "execute_result"
    },
    {
     "data": {
      "image/png": "[encoded data removed]",
      "text/plain": [
       "<Figure size 640x480 with 1 Axes>"
      ]
     },
     "metadata": {},
     "output_type": "display_data"
    }
   ],
   "source": [
    "sns.barplot(y=subset.index, x=subset.values, palette='husl', hue=subset.index)"
   ]
  },
  {
   "cell_type": "code",
   "execution_count": 278,
   "id": "3bef1d74-6b23-4bb7-a6c8-7cad0c748ec7",
   "metadata": {},
   "outputs": [
    {
     "data": {
      "text/plain": [
       "'GoogleMaps/RochesterNY'"
      ]
     },
     "execution_count": 278,
     "metadata": {},
     "output_type": "execute_result"
    }
   ],
   "source": [
    "# Preview the data find the field that contains information about the browswer, \n",
    "# device, or application used for URL shortening.\n",
    "frame['a'][1]"
   ]
  },
  {
   "cell_type": "code",
   "execution_count": 280,
   "id": "a25eb20a-a777-4b8e-b5c0-9147f5678525",
   "metadata": {},
   "outputs": [
    {
     "data": {
      "text/plain": [
       "'Mozilla/5.0 (Windows NT 5.1; rv:10.0.2) Gecko/20100101 Firefox/10.0.2'"
      ]
     },
     "execution_count": 280,
     "metadata": {},
     "output_type": "execute_result"
    }
   ],
   "source": [
    "frame['a'][50]"
   ]
  },
  {
   "cell_type": "code",
   "execution_count": 282,
   "id": "f5851e94-f262-46f2-8ad1-777f95f10db3",
   "metadata": {},
   "outputs": [
    {
     "data": {
      "text/plain": [
       "'Mozilla/5.0 (Linux; U; Android 2.2.2; en-us; LG-P9'"
      ]
     },
     "execution_count": 282,
     "metadata": {},
     "output_type": "execute_result"
    }
   ],
   "source": [
    "frame['a'][51][:50]"
   ]
  },
  {
   "cell_type": "code",
   "execution_count": 284,
   "id": "678af8a6-04dd-4125-b4db-b26002847615",
   "metadata": {},
   "outputs": [],
   "source": [
    "# Parse the information we need from the agent strings by splitting off the \n",
    "# first token that shows browser compatibility and creating a new summary of \n",
    "# the user behavior.\n",
    "results = pd.Series([x.split()[0] for x in frame.a.dropna()])"
   ]
  },
  {
   "cell_type": "code",
   "execution_count": 286,
   "id": "84c77e9b-fcfa-42d4-9d25-2154efdb2b3e",
   "metadata": {},
   "outputs": [
    {
     "data": {
      "text/plain": [
       "0               Mozilla/5.0\n",
       "1    GoogleMaps/RochesterNY\n",
       "2               Mozilla/4.0\n",
       "3               Mozilla/5.0\n",
       "4               Mozilla/5.0\n",
       "dtype: object"
      ]
     },
     "execution_count": 286,
     "metadata": {},
     "output_type": "execute_result"
    }
   ],
   "source": [
    "# Preview the data\n",
    "results[:5]"
   ]
  },
  {
   "cell_type": "code",
   "execution_count": 288,
   "id": "5ffcfe4c-f4f5-4042-8b89-09df7eb96ef6",
   "metadata": {},
   "outputs": [
    {
     "data": {
      "text/plain": [
       "Mozilla/5.0                 2594\n",
       "Mozilla/4.0                  601\n",
       "GoogleMaps/RochesterNY       121\n",
       "Opera/9.80                    34\n",
       "TEST_INTERNET_AGENT           24\n",
       "GoogleProducer                21\n",
       "Mozilla/6.0                    5\n",
       "BlackBerry8520/5.0.0.681       4\n",
       "BlackBerry8520/5.0.0.592       3\n",
       "Dalvik/1.4.0                   3\n",
       "Name: count, dtype: int64"
      ]
     },
     "execution_count": 288,
     "metadata": {},
     "output_type": "execute_result"
    }
   ],
   "source": [
    "results.value_counts()[:10]"
   ]
  },
  {
   "cell_type": "code",
   "execution_count": 290,
   "id": "f0f7ff13-204b-4af7-9328-8f903bf6979f",
   "metadata": {},
   "outputs": [],
   "source": [
    "# Seperate the timezones based on Windows and non Windows users, exclude data \n",
    "# that is missing.\n",
    "cframe = frame[frame.a.notnull()]"
   ]
  },
  {
   "cell_type": "code",
   "execution_count": 294,
   "id": "25267087-7dc4-4d7e-89eb-e5524e4ca136",
   "metadata": {},
   "outputs": [],
   "source": [
    "cframe.loc[:, 'os'] = np.where(cframe['a'].str.contains('Windows'),'Windows', 'Not Windows')"
   ]
  },
  {
   "cell_type": "code",
   "execution_count": 303,
   "id": "f33d30d7-8883-4b83-b5dd-8873ae539da5",
   "metadata": {},
   "outputs": [
    {
     "data": {
      "text/plain": [
       "0        Windows\n",
       "1    Not Windows\n",
       "2        Windows\n",
       "3    Not Windows\n",
       "4        Windows\n",
       "5        Windows\n",
       "6        Windows\n",
       "7        Windows\n",
       "8    Not Windows\n",
       "9        Windows\n",
       "Name: os, dtype: object"
      ]
     },
     "execution_count": 303,
     "metadata": {},
     "output_type": "execute_result"
    }
   ],
   "source": [
    "# Preview the data \n",
    "cframe['os'][:10]"
   ]
  },
  {
   "cell_type": "code",
   "execution_count": 305,
   "id": "7d440cad-adbd-45b3-a481-1406a161e821",
   "metadata": {},
   "outputs": [],
   "source": [
    "# Group the data by its timezone column and the new list of operating systems in the cframe. \n",
    "by_tz_os = cframe.groupby(['tz', 'os'])"
   ]
  },
  {
   "cell_type": "code",
   "execution_count": 307,
   "id": "fc6fc1ff-6b60-47c7-bf7a-ce1ef9bb56cd",
   "metadata": {},
   "outputs": [],
   "source": [
    "# Gather the group counts via the .size() function and unstack the data. \n",
    "agg_counts = by_tz_os.size().unstack().fillna(0)"
   ]
  },
  {
   "cell_type": "code",
   "execution_count": 309,
   "id": "342d824b-b2bf-4ed5-8420-44148c556b94",
   "metadata": {},
   "outputs": [
    {
     "data": {
      "text/html": [
       "<div>\n",
       "<style scoped>\n",
       "    .dataframe tbody tr th:only-of-type {\n",
       "        vertical-align: middle;\n",
       "    }\n",
       "\n",
       "    .dataframe tbody tr th {\n",
       "        vertical-align: top;\n",
       "    }\n",
       "\n",
       "    .dataframe thead th {\n",
       "        text-align: right;\n",
       "    }\n",
       "</style>\n",
       "<table border=\"1\" class=\"dataframe\">\n",
       "  <thead>\n",
       "    <tr style=\"text-align: right;\">\n",
       "      <th>os</th>\n",
       "      <th>Not Windows</th>\n",
       "      <th>Windows</th>\n",
       "    </tr>\n",
       "    <tr>\n",
       "      <th>tz</th>\n",
       "      <th></th>\n",
       "      <th></th>\n",
       "    </tr>\n",
       "  </thead>\n",
       "  <tbody>\n",
       "    <tr>\n",
       "      <th></th>\n",
       "      <td>245.0</td>\n",
       "      <td>276.0</td>\n",
       "    </tr>\n",
       "    <tr>\n",
       "      <th>Africa/Cairo</th>\n",
       "      <td>0.0</td>\n",
       "      <td>3.0</td>\n",
       "    </tr>\n",
       "    <tr>\n",
       "      <th>Africa/Casablanca</th>\n",
       "      <td>0.0</td>\n",
       "      <td>1.0</td>\n",
       "    </tr>\n",
       "    <tr>\n",
       "      <th>Africa/Ceuta</th>\n",
       "      <td>0.0</td>\n",
       "      <td>2.0</td>\n",
       "    </tr>\n",
       "    <tr>\n",
       "      <th>Africa/Johannesburg</th>\n",
       "      <td>0.0</td>\n",
       "      <td>1.0</td>\n",
       "    </tr>\n",
       "    <tr>\n",
       "      <th>Africa/Lusaka</th>\n",
       "      <td>0.0</td>\n",
       "      <td>1.0</td>\n",
       "    </tr>\n",
       "    <tr>\n",
       "      <th>America/Anchorage</th>\n",
       "      <td>4.0</td>\n",
       "      <td>1.0</td>\n",
       "    </tr>\n",
       "    <tr>\n",
       "      <th>America/Argentina/Buenos_Aires</th>\n",
       "      <td>1.0</td>\n",
       "      <td>0.0</td>\n",
       "    </tr>\n",
       "    <tr>\n",
       "      <th>America/Argentina/Cordoba</th>\n",
       "      <td>0.0</td>\n",
       "      <td>1.0</td>\n",
       "    </tr>\n",
       "    <tr>\n",
       "      <th>America/Argentina/Mendoza</th>\n",
       "      <td>0.0</td>\n",
       "      <td>1.0</td>\n",
       "    </tr>\n",
       "  </tbody>\n",
       "</table>\n",
       "</div>"
      ],
      "text/plain": [
       "os                              Not Windows  Windows\n",
       "tz                                                  \n",
       "                                      245.0    276.0\n",
       "Africa/Cairo                            0.0      3.0\n",
       "Africa/Casablanca                       0.0      1.0\n",
       "Africa/Ceuta                            0.0      2.0\n",
       "Africa/Johannesburg                     0.0      1.0\n",
       "Africa/Lusaka                           0.0      1.0\n",
       "America/Anchorage                       4.0      1.0\n",
       "America/Argentina/Buenos_Aires          1.0      0.0\n",
       "America/Argentina/Cordoba               0.0      1.0\n",
       "America/Argentina/Mendoza               0.0      1.0"
      ]
     },
     "execution_count": 309,
     "metadata": {},
     "output_type": "execute_result"
    }
   ],
   "source": [
    "# Preview the data\n",
    "agg_counts[:10]"
   ]
  },
  {
   "cell_type": "code",
   "execution_count": 311,
   "id": "0d0e39a5-d122-4cce-949c-37a1a56ee49f",
   "metadata": {},
   "outputs": [],
   "source": [
    "# Gather the top timezones in the dataset by creating an indirect index array \n",
    "# from the row counts. Begin by sorting in ascending order. \n",
    "indexer = agg_counts.sum(1).argsort()"
   ]
  },
  {
   "cell_type": "code",
   "execution_count": 313,
   "id": "fdb61bca-e93e-490a-aa65-fad4ef419cc1",
   "metadata": {},
   "outputs": [
    {
     "data": {
      "text/plain": [
       "tz\n",
       "                                   8\n",
       "Africa/Cairo                       9\n",
       "Africa/Casablanca                 11\n",
       "Africa/Ceuta                      14\n",
       "Africa/Johannesburg               87\n",
       "Africa/Lusaka                     86\n",
       "America/Anchorage                 21\n",
       "America/Argentina/Buenos_Aires    20\n",
       "America/Argentina/Cordoba         56\n",
       "America/Argentina/Mendoza         57\n",
       "dtype: int64"
      ]
     },
     "execution_count": 313,
     "metadata": {},
     "output_type": "execute_result"
    }
   ],
   "source": [
    "# Preview the data \n",
    "indexer[:10]"
   ]
  },
  {
   "cell_type": "code",
   "execution_count": 330,
   "id": "748ada3b-590f-43ef-af92-2b13947da2c5",
   "metadata": {},
   "outputs": [],
   "source": [
    "# Use the panda's nlargest.() function to select those row and slice off the \n",
    "# last 10 rows of data.\n",
    "top_10_tz = agg_counts.sum(1).nlargest(10).index"
   ]
  },
  {
   "cell_type": "code",
   "execution_count": 332,
   "id": "06729932-927c-4dc6-8641-92272d2c3afe",
   "metadata": {},
   "outputs": [],
   "source": [
    "count_subset = agg_counts.loc[top_10_tz]"
   ]
  },
  {
   "cell_type": "code",
   "execution_count": 334,
   "id": "57dae09d-658e-473d-aae8-06410f4108c2",
   "metadata": {},
   "outputs": [],
   "source": [
    "count_subset_stacked = count_subset.stack()"
   ]
  },
  {
   "cell_type": "code",
   "execution_count": 336,
   "id": "8c13d4ff-3c68-45f2-bdeb-9c46c27e58bb",
   "metadata": {},
   "outputs": [
    {
     "data": {
      "text/html": [
       "<div>\n",
       "<style scoped>\n",
       "    .dataframe tbody tr th:only-of-type {\n",
       "        vertical-align: middle;\n",
       "    }\n",
       "\n",
       "    .dataframe tbody tr th {\n",
       "        vertical-align: top;\n",
       "    }\n",
       "\n",
       "    .dataframe thead th {\n",
       "        text-align: right;\n",
       "    }\n",
       "</style>\n",
       "<table border=\"1\" class=\"dataframe\">\n",
       "  <thead>\n",
       "    <tr style=\"text-align: right;\">\n",
       "      <th>os</th>\n",
       "      <th>Not Windows</th>\n",
       "      <th>Windows</th>\n",
       "    </tr>\n",
       "    <tr>\n",
       "      <th>tz</th>\n",
       "      <th></th>\n",
       "      <th></th>\n",
       "    </tr>\n",
       "  </thead>\n",
       "  <tbody>\n",
       "    <tr>\n",
       "      <th>America/New_York</th>\n",
       "      <td>339.0</td>\n",
       "      <td>912.0</td>\n",
       "    </tr>\n",
       "    <tr>\n",
       "      <th></th>\n",
       "      <td>245.0</td>\n",
       "      <td>276.0</td>\n",
       "    </tr>\n",
       "    <tr>\n",
       "      <th>America/Chicago</th>\n",
       "      <td>115.0</td>\n",
       "      <td>285.0</td>\n",
       "    </tr>\n",
       "    <tr>\n",
       "      <th>America/Los_Angeles</th>\n",
       "      <td>130.0</td>\n",
       "      <td>252.0</td>\n",
       "    </tr>\n",
       "    <tr>\n",
       "      <th>America/Denver</th>\n",
       "      <td>132.0</td>\n",
       "      <td>59.0</td>\n",
       "    </tr>\n",
       "    <tr>\n",
       "      <th>Europe/London</th>\n",
       "      <td>43.0</td>\n",
       "      <td>31.0</td>\n",
       "    </tr>\n",
       "    <tr>\n",
       "      <th>Asia/Tokyo</th>\n",
       "      <td>2.0</td>\n",
       "      <td>35.0</td>\n",
       "    </tr>\n",
       "    <tr>\n",
       "      <th>Pacific/Honolulu</th>\n",
       "      <td>0.0</td>\n",
       "      <td>36.0</td>\n",
       "    </tr>\n",
       "    <tr>\n",
       "      <th>Europe/Madrid</th>\n",
       "      <td>16.0</td>\n",
       "      <td>19.0</td>\n",
       "    </tr>\n",
       "    <tr>\n",
       "      <th>America/Sao_Paulo</th>\n",
       "      <td>13.0</td>\n",
       "      <td>20.0</td>\n",
       "    </tr>\n",
       "  </tbody>\n",
       "</table>\n",
       "</div>"
      ],
      "text/plain": [
       "os                   Not Windows  Windows\n",
       "tz                                       \n",
       "America/New_York           339.0    912.0\n",
       "                           245.0    276.0\n",
       "America/Chicago            115.0    285.0\n",
       "America/Los_Angeles        130.0    252.0\n",
       "America/Denver             132.0     59.0\n",
       "Europe/London               43.0     31.0\n",
       "Asia/Tokyo                   2.0     35.0\n",
       "Pacific/Honolulu             0.0     36.0\n",
       "Europe/Madrid               16.0     19.0\n",
       "America/Sao_Paulo           13.0     20.0"
      ]
     },
     "execution_count": 336,
     "metadata": {},
     "output_type": "execute_result"
    }
   ],
   "source": [
    "# Preview the data\n",
    "count_subset"
   ]
  },
  {
   "cell_type": "code",
   "execution_count": 338,
   "id": "77291464-95cb-43cd-93b1-aca435f286d0",
   "metadata": {},
   "outputs": [],
   "source": [
    "# Visualize the data with a stacked bar plot, but first rearrange the data. \n",
    "count_subset = count_subset.stack()"
   ]
  },
  {
   "cell_type": "code",
   "execution_count": 340,
   "id": "b644077f-6c2c-4ae5-b6a4-c6d0ba4b3942",
   "metadata": {},
   "outputs": [],
   "source": [
    "count_subset.name = 'total'"
   ]
  },
  {
   "cell_type": "code",
   "execution_count": 342,
   "id": "7bf2d91a-431f-4823-9b8c-b228af4ff42b",
   "metadata": {},
   "outputs": [],
   "source": [
    "count_subset = count_subset.reset_index()"
   ]
  },
  {
   "cell_type": "code",
   "execution_count": 350,
   "id": "876c0a5e-40e5-44ed-9baf-5ac8f1983395",
   "metadata": {},
   "outputs": [
    {
     "data": {
      "text/html": [
       "<div>\n",
       "<style scoped>\n",
       "    .dataframe tbody tr th:only-of-type {\n",
       "        vertical-align: middle;\n",
       "    }\n",
       "\n",
       "    .dataframe tbody tr th {\n",
       "        vertical-align: top;\n",
       "    }\n",
       "\n",
       "    .dataframe thead th {\n",
       "        text-align: right;\n",
       "    }\n",
       "</style>\n",
       "<table border=\"1\" class=\"dataframe\">\n",
       "  <thead>\n",
       "    <tr style=\"text-align: right;\">\n",
       "      <th></th>\n",
       "      <th>tz</th>\n",
       "      <th>os</th>\n",
       "      <th>total</th>\n",
       "    </tr>\n",
       "  </thead>\n",
       "  <tbody>\n",
       "    <tr>\n",
       "      <th>0</th>\n",
       "      <td>America/New_York</td>\n",
       "      <td>Not Windows</td>\n",
       "      <td>339.0</td>\n",
       "    </tr>\n",
       "    <tr>\n",
       "      <th>1</th>\n",
       "      <td>America/New_York</td>\n",
       "      <td>Windows</td>\n",
       "      <td>912.0</td>\n",
       "    </tr>\n",
       "    <tr>\n",
       "      <th>2</th>\n",
       "      <td></td>\n",
       "      <td>Not Windows</td>\n",
       "      <td>245.0</td>\n",
       "    </tr>\n",
       "    <tr>\n",
       "      <th>3</th>\n",
       "      <td></td>\n",
       "      <td>Windows</td>\n",
       "      <td>276.0</td>\n",
       "    </tr>\n",
       "    <tr>\n",
       "      <th>4</th>\n",
       "      <td>America/Chicago</td>\n",
       "      <td>Not Windows</td>\n",
       "      <td>115.0</td>\n",
       "    </tr>\n",
       "    <tr>\n",
       "      <th>5</th>\n",
       "      <td>America/Chicago</td>\n",
       "      <td>Windows</td>\n",
       "      <td>285.0</td>\n",
       "    </tr>\n",
       "    <tr>\n",
       "      <th>6</th>\n",
       "      <td>America/Los_Angeles</td>\n",
       "      <td>Not Windows</td>\n",
       "      <td>130.0</td>\n",
       "    </tr>\n",
       "    <tr>\n",
       "      <th>7</th>\n",
       "      <td>America/Los_Angeles</td>\n",
       "      <td>Windows</td>\n",
       "      <td>252.0</td>\n",
       "    </tr>\n",
       "    <tr>\n",
       "      <th>8</th>\n",
       "      <td>America/Denver</td>\n",
       "      <td>Not Windows</td>\n",
       "      <td>132.0</td>\n",
       "    </tr>\n",
       "    <tr>\n",
       "      <th>9</th>\n",
       "      <td>America/Denver</td>\n",
       "      <td>Windows</td>\n",
       "      <td>59.0</td>\n",
       "    </tr>\n",
       "    <tr>\n",
       "      <th>10</th>\n",
       "      <td>Europe/London</td>\n",
       "      <td>Not Windows</td>\n",
       "      <td>43.0</td>\n",
       "    </tr>\n",
       "    <tr>\n",
       "      <th>11</th>\n",
       "      <td>Europe/London</td>\n",
       "      <td>Windows</td>\n",
       "      <td>31.0</td>\n",
       "    </tr>\n",
       "    <tr>\n",
       "      <th>12</th>\n",
       "      <td>Asia/Tokyo</td>\n",
       "      <td>Not Windows</td>\n",
       "      <td>2.0</td>\n",
       "    </tr>\n",
       "    <tr>\n",
       "      <th>13</th>\n",
       "      <td>Asia/Tokyo</td>\n",
       "      <td>Windows</td>\n",
       "      <td>35.0</td>\n",
       "    </tr>\n",
       "    <tr>\n",
       "      <th>14</th>\n",
       "      <td>Pacific/Honolulu</td>\n",
       "      <td>Not Windows</td>\n",
       "      <td>0.0</td>\n",
       "    </tr>\n",
       "  </tbody>\n",
       "</table>\n",
       "</div>"
      ],
      "text/plain": [
       "                     tz           os  total\n",
       "0      America/New_York  Not Windows  339.0\n",
       "1      America/New_York      Windows  912.0\n",
       "2                        Not Windows  245.0\n",
       "3                            Windows  276.0\n",
       "4       America/Chicago  Not Windows  115.0\n",
       "5       America/Chicago      Windows  285.0\n",
       "6   America/Los_Angeles  Not Windows  130.0\n",
       "7   America/Los_Angeles      Windows  252.0\n",
       "8        America/Denver  Not Windows  132.0\n",
       "9        America/Denver      Windows   59.0\n",
       "10        Europe/London  Not Windows   43.0\n",
       "11        Europe/London      Windows   31.0\n",
       "12           Asia/Tokyo  Not Windows    2.0\n",
       "13           Asia/Tokyo      Windows   35.0\n",
       "14     Pacific/Honolulu  Not Windows    0.0"
      ]
     },
     "execution_count": 350,
     "metadata": {},
     "output_type": "execute_result"
    }
   ],
   "source": [
    "# Preview the data \n",
    "count_subset[:15]"
   ]
  },
  {
   "cell_type": "code",
   "execution_count": 352,
   "id": "814e9664-240c-4533-8f5c-b16bbd1fe4ea",
   "metadata": {},
   "outputs": [
    {
     "data": {
      "text/plain": [
       "<Axes: xlabel='total', ylabel='tz'>"
      ]
     },
     "execution_count": 352,
     "metadata": {},
     "output_type": "execute_result"
    },
    {
     "data": {
      "image/png": "[encoded data removed]",
      "text/plain": [
       "<Figure size 640x480 with 1 Axes>"
      ]
     },
     "metadata": {},
     "output_type": "display_data"
    }
   ],
   "source": [
    "# Normalize the data as necessary to optimize graph. \n",
    "sns.barplot(x='total', y='tz', hue='os', data=count_subset)"
   ]
  },
  {
   "cell_type": "code",
   "execution_count": 360,
   "id": "00a677c6-d12b-4190-bc6d-289313679e04",
   "metadata": {},
   "outputs": [],
   "source": [
    "def norm_total(group):\n",
    "    group['normed_total'] = count_subset.groupby('tz')\n",
    "    return group \n",
    "results = count_subset.total / group.total.transform('sum')"
   ]
  },
  {
   "cell_type": "code",
   "execution_count": 362,
   "id": "c0af8706-0cc9-4d21-95e1-2f8de6ad7568",
   "metadata": {},
   "outputs": [
    {
     "data": {
      "text/plain": [
       "<Axes: xlabel='normed_total', ylabel='tz'>"
      ]
     },
     "execution_count": 362,
     "metadata": {},
     "output_type": "execute_result"
    },
    {
     "data": {
      "image/png": "[encoded data removed]",
      "text/plain": [
       "<Figure size 640x480 with 1 Axes>"
      ]
     },
     "metadata": {},
     "output_type": "display_data"
    }
   ],
   "source": [
    "sns.barplot(x='normed_total', y='tz', hue='os', data=results)"
   ]
  },
  {
   "cell_type": "code",
   "execution_count": null,
   "id": "903ff271-71fa-4b96-9bfa-9b5a04620801",
   "metadata": {},
   "outputs": [],
   "source": []
  }
 ],
 "metadata": {
  "kernelspec": {
   "display_name": "Python [conda env:base] *",
   "language": "python",
   "name": "conda-base-py"
  },
  "language_info": {
   "codemirror_mode": {
    "name": "ipython",
    "version": 3
   },
   "file_extension": ".py",
   "mimetype": "text/x-python",
   "name": "python",
   "nbconvert_exporter": "python",
   "pygments_lexer": "ipython3",
   "version": "3.12.7"
  }
 },
 "nbformat": 4,
 "nbformat_minor": 5
}
