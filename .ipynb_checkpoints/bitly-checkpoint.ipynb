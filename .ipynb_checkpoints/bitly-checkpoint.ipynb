{
 "cells": [
  {
   "cell_type": "code",
   "execution_count": 48,
   "id": "520e6aad-f799-4f50-9d69-e0f7cbbe60b7",
   "metadata": {},
   "outputs": [],
   "source": [
    "# Import any dependencies \n",
    "import os, os.path, json "
   ]
  },
  {
   "cell_type": "code",
   "execution_count": 50,
   "id": "80c1305f-a3db-4d9c-9d3c-d8cc3eda5381",
   "metadata": {},
   "outputs": [],
   "source": [
    "# Path for the data\n",
    "path = 'example.txt'"
   ]
  },
  {
   "cell_type": "code",
   "execution_count": 52,
   "id": "f13047e2-63d0-442a-ad45-1c60cf17f52c",
   "metadata": {},
   "outputs": [
    {
     "data": {
      "text/plain": [
       "'{ \"a\": \"Mozilla\\\\/5.0 (Windows NT 6.1; WOW64) AppleWebKit\\\\/535.11 (KHTML, like Gecko) Chrome\\\\/17.0.963.78 Safari\\\\/535.11\", \"c\": \"US\", \"nk\": 1, \"tz\": \"America\\\\/New_York\", \"gr\": \"MA\", \"g\": \"A6qOVH\", \"h\": \"wfLQtf\", \"l\": \"orofrog\", \"al\": \"en-US,en;q=0.8\", \"hh\": \"1.usa.gov\", \"r\": \"http:\\\\/\\\\/www.facebook.com\\\\/l\\\\/7AQEFzjSi\\\\/1.usa.gov\\\\/wfLQtf\", \"u\": \"http:\\\\/\\\\/www.ncbi.nlm.nih.gov\\\\/pubmed\\\\/22415991\", \"t\": 1331923247, \"hc\": 1331822918, \"cy\": \"Danvers\", \"ll\": [ 42.576698, -70.954903 ] }\\n'"
      ]
     },
     "execution_count": 52,
     "metadata": {},
     "output_type": "execute_result"
    }
   ],
   "source": [
    "# Preview the data \n",
    "open(path).readline()"
   ]
  },
  {
   "cell_type": "code",
   "execution_count": 54,
   "id": "b54a5a71-7251-4f75-b7a2-af598506bc3a",
   "metadata": {},
   "outputs": [],
   "source": [
    "# Utilize the json module and loads function to convert the JSON file into a \n",
    "# python dictionary object\n",
    "records = [json.loads(line) for line in open(path)]"
   ]
  },
  {
   "cell_type": "code",
   "execution_count": 56,
   "id": "3d26bfe5-71b5-4d0e-bf53-62032b332736",
   "metadata": {},
   "outputs": [
    {
     "data": {
      "text/plain": [
       "{'a': 'Mozilla/5.0 (Windows NT 6.1; WOW64) AppleWebKit/535.11 (KHTML, like Gecko) Chrome/17.0.963.78 Safari/535.11',\n",
       " 'c': 'US',\n",
       " 'nk': 1,\n",
       " 'tz': 'America/New_York',\n",
       " 'gr': 'MA',\n",
       " 'g': 'A6qOVH',\n",
       " 'h': 'wfLQtf',\n",
       " 'l': 'orofrog',\n",
       " 'al': 'en-US,en;q=0.8',\n",
       " 'hh': '1.usa.gov',\n",
       " 'r': 'http://www.facebook.com/l/7AQEFzjSi/1.usa.gov/wfLQtf',\n",
       " 'u': 'http://www.ncbi.nlm.nih.gov/pubmed/22415991',\n",
       " 't': 1331923247,\n",
       " 'hc': 1331822918,\n",
       " 'cy': 'Danvers',\n",
       " 'll': [42.576698, -70.954903]}"
      ]
     },
     "execution_count": 56,
     "metadata": {},
     "output_type": "execute_result"
    }
   ],
   "source": [
    "# Preview the data as a list of python dictionaries \n",
    "records[0]"
   ]
  },
  {
   "cell_type": "code",
   "execution_count": 58,
   "id": "433ed493-d88f-457d-8129-7c17bd5c5105",
   "metadata": {},
   "outputs": [],
   "source": [
    "# Continue endevour of comparing counting timezones in pure python. First find\n",
    "# the most common timezones in the dataset.\n",
    "time_zones = [rec['tz'] for rec in records if 'tz' in rec]"
   ]
  },
  {
   "cell_type": "code",
   "execution_count": 60,
   "id": "b7a50718-57ea-43b0-9cc4-9916f2cb640b",
   "metadata": {},
   "outputs": [
    {
     "data": {
      "text/plain": [
       "['America/New_York',\n",
       " 'America/Denver',\n",
       " 'America/New_York',\n",
       " 'America/Sao_Paulo',\n",
       " 'America/New_York',\n",
       " 'America/New_York',\n",
       " 'Europe/Warsaw',\n",
       " '',\n",
       " '',\n",
       " '']"
      ]
     },
     "execution_count": 60,
     "metadata": {},
     "output_type": "execute_result"
    }
   ],
   "source": [
    "# Preview the data \n",
    "time_zones[:10]"
   ]
  },
  {
   "cell_type": "code",
   "execution_count": 62,
   "id": "2e02aff4-288b-4393-b6e4-8a372aed72ef",
   "metadata": {},
   "outputs": [],
   "source": [
    "# Continue manipulating the data by filtering out empty strings. We will begin \n",
    "# the analysis by counting sequences. This is by far the hard way, proper \n",
    "# methodology would have been doing this through pandas. This uses only \n",
    "# Python's standard libraries. We start by creating a dictionary to store the \n",
    "# count as we iterate though the sequence.\n",
    "def get_counts(sequence):\n",
    "    counts = {}\n",
    "    for x in sequence:\n",
    "        if x in counts:\n",
    "            counts[x] += 1\n",
    "        else:\n",
    "            counts[x] = 1\n",
    "    return counts"
   ]
  },
  {
   "cell_type": "code",
   "execution_count": 64,
   "id": "9d18136d-0be5-4b3b-bdae-2bb7e37c48af",
   "metadata": {},
   "outputs": [],
   "source": [
    "counts = get_counts(time_zones)"
   ]
  },
  {
   "cell_type": "code",
   "execution_count": 66,
   "id": "387b3c3c-b13d-44d8-bd00-89e20ec1afc7",
   "metadata": {},
   "outputs": [
    {
     "data": {
      "text/plain": [
       "1251"
      ]
     },
     "execution_count": 66,
     "metadata": {},
     "output_type": "execute_result"
    }
   ],
   "source": [
    "# Preview the data \n",
    "counts['America/New_York']"
   ]
  },
  {
   "cell_type": "code",
   "execution_count": 68,
   "id": "aea9802e-e696-4685-b860-f695ca8715e5",
   "metadata": {},
   "outputs": [
    {
     "data": {
      "text/plain": [
       "3440"
      ]
     },
     "execution_count": 68,
     "metadata": {},
     "output_type": "execute_result"
    }
   ],
   "source": [
    "len(time_zones)"
   ]
  },
  {
   "cell_type": "code",
   "execution_count": 70,
   "id": "067f625b-d808-40b4-b268-1e24ea26dd33",
   "metadata": {},
   "outputs": [],
   "source": [
    "# Find the most popular timezones and their usage frequency. We will create a \n",
    "# list of tuples where each tuple holds (count, tz). We then sort the list of\n",
    "# tuples based on the first element (count). I return the last n items from \n",
    "# the sorted list (highest counts)\n",
    "def top_counts(count_dict, n=10): \n",
    "    value_key_pairs = [(count, tz) for tz, count in count_dict.items()]\n",
    "    value_key_pairs.sort()\n",
    "    return value_key_pairs[-n:]"
   ]
  },
  {
   "cell_type": "code",
   "execution_count": 72,
   "id": "0a1523ed-1587-4511-86bd-8082de915108",
   "metadata": {},
   "outputs": [
    {
     "data": {
      "text/plain": [
       "[(33, 'America/Sao_Paulo'),\n",
       " (35, 'Europe/Madrid'),\n",
       " (36, 'Pacific/Honolulu'),\n",
       " (37, 'Asia/Tokyo'),\n",
       " (74, 'Europe/London'),\n",
       " (191, 'America/Denver'),\n",
       " (382, 'America/Los_Angeles'),\n",
       " (400, 'America/Chicago'),\n",
       " (521, ''),\n",
       " (1251, 'America/New_York')]"
      ]
     },
     "execution_count": 72,
     "metadata": {},
     "output_type": "execute_result"
    }
   ],
   "source": [
    "# Preview Data\n",
    "top_counts(counts)"
   ]
  },
  {
   "cell_type": "code",
   "execution_count": 74,
   "id": "ca564c8f-fa0b-495b-8831-ec4838b8603e",
   "metadata": {},
   "outputs": [],
   "source": [
    "# Conversely an easier way to perform the same action is to use the \n",
    "# collections.Counter class\n",
    "from collections import Counter "
   ]
  },
  {
   "cell_type": "code",
   "execution_count": 76,
   "id": "487cab38-808b-4bec-b94b-fa37596b52a4",
   "metadata": {},
   "outputs": [],
   "source": [
    "counts = Counter(time_zones)"
   ]
  },
  {
   "cell_type": "code",
   "execution_count": 78,
   "id": "38015922-fe75-4324-8ea0-7dd1db9a1c3e",
   "metadata": {},
   "outputs": [
    {
     "data": {
      "text/plain": [
       "[('America/New_York', 1251),\n",
       " ('', 521),\n",
       " ('America/Chicago', 400),\n",
       " ('America/Los_Angeles', 382),\n",
       " ('America/Denver', 191),\n",
       " ('Europe/London', 74),\n",
       " ('Asia/Tokyo', 37),\n",
       " ('Pacific/Honolulu', 36),\n",
       " ('Europe/Madrid', 35),\n",
       " ('America/Sao_Paulo', 33)]"
      ]
     },
     "execution_count": 78,
     "metadata": {},
     "output_type": "execute_result"
    }
   ],
   "source": [
    "counts.most_common(10)"
   ]
  },
  {
   "cell_type": "code",
   "execution_count": 85,
   "id": "c21ca6e5-e714-44f3-87a6-cbaf9608b43a",
   "metadata": {},
   "outputs": [],
   "source": [
    "# Continue now to display the same application but using pandas begin by \n",
    "# importing any dependencies\n",
    "import pandas as pd"
   ]
  },
  {
   "cell_type": "code",
   "execution_count": 87,
   "id": "2e77041e-7874-45ed-b5a9-f366a7756ccf",
   "metadata": {},
   "outputs": [],
   "source": [
    "# Define the dataframe \n",
    "frame = pd.DataFrame(records)"
   ]
  },
  {
   "cell_type": "code",
   "execution_count": 89,
   "id": "e7ba287f-3687-434d-912f-4277e9140952",
   "metadata": {},
   "outputs": [
    {
     "name": "stdout",
     "output_type": "stream",
     "text": [
      "<class 'pandas.core.frame.DataFrame'>\n",
      "RangeIndex: 3560 entries, 0 to 3559\n",
      "Data columns (total 18 columns):\n",
      " #   Column       Non-Null Count  Dtype  \n",
      "---  ------       --------------  -----  \n",
      " 0   a            3440 non-null   object \n",
      " 1   c            2919 non-null   object \n",
      " 2   nk           3440 non-null   float64\n",
      " 3   tz           3440 non-null   object \n",
      " 4   gr           2919 non-null   object \n",
      " 5   g            3440 non-null   object \n",
      " 6   h            3440 non-null   object \n",
      " 7   l            3440 non-null   object \n",
      " 8   al           3094 non-null   object \n",
      " 9   hh           3440 non-null   object \n",
      " 10  r            3440 non-null   object \n",
      " 11  u            3440 non-null   object \n",
      " 12  t            3440 non-null   float64\n",
      " 13  hc           3440 non-null   float64\n",
      " 14  cy           2919 non-null   object \n",
      " 15  ll           2919 non-null   object \n",
      " 16  _heartbeat_  120 non-null    float64\n",
      " 17  kw           93 non-null     object \n",
      "dtypes: float64(4), object(14)\n",
      "memory usage: 500.8+ KB\n"
     ]
    }
   ],
   "source": [
    "frame.info()"
   ]
  },
  {
   "cell_type": "code",
   "execution_count": 91,
   "id": "b3448561-10cf-4dcc-81fc-1b03d87ca051",
   "metadata": {},
   "outputs": [
    {
     "data": {
      "text/plain": [
       "0     America/New_York\n",
       "1       America/Denver\n",
       "2     America/New_York\n",
       "3    America/Sao_Paulo\n",
       "4     America/New_York\n",
       "5     America/New_York\n",
       "6        Europe/Warsaw\n",
       "7                     \n",
       "8                     \n",
       "9                     \n",
       "Name: tz, dtype: object"
      ]
     },
     "execution_count": 91,
     "metadata": {},
     "output_type": "execute_result"
    }
   ],
   "source": [
    "# Preview the data \n",
    "frame['tz'][:10]"
   ]
  },
  {
   "cell_type": "code",
   "execution_count": 93,
   "id": "08e27fcf-42ac-404f-bedd-87cc8efba282",
   "metadata": {},
   "outputs": [],
   "source": [
    "# Preview the data for better understanding of the data using value_counts \n",
    "# method for Series \n",
    "tz_counts = frame['tz'].value_counts()"
   ]
  },
  {
   "cell_type": "code",
   "execution_count": 95,
   "id": "3031c2dd-888f-4c2c-90c9-46bba91da399",
   "metadata": {},
   "outputs": [
    {
     "data": {
      "text/plain": [
       "tz\n",
       "America/New_York       1251\n",
       "                        521\n",
       "America/Chicago         400\n",
       "America/Los_Angeles     382\n",
       "America/Denver          191\n",
       "Europe/London            74\n",
       "Asia/Tokyo               37\n",
       "Pacific/Honolulu         36\n",
       "Europe/Madrid            35\n",
       "America/Sao_Paulo        33\n",
       "Name: count, dtype: int64"
      ]
     },
     "execution_count": 95,
     "metadata": {},
     "output_type": "execute_result"
    }
   ],
   "source": [
    "tz_counts[:10]"
   ]
  },
  {
   "cell_type": "code",
   "execution_count": 98,
   "id": "636bc999-a3ae-4903-950f-45281a4c8cbb",
   "metadata": {},
   "outputs": [],
   "source": [
    "# Visualize the data with matplotlib take care of any unknown and missing \n",
    "# timezone data.\n",
    "clean_tz = frame['tz'].fillna('Missing')"
   ]
  },
  {
   "cell_type": "code",
   "execution_count": 100,
   "id": "f327fd67-0804-4a7c-81b7-b5b9ed793d04",
   "metadata": {},
   "outputs": [],
   "source": [
    "clean_tz[clean_tz == ''] = 'Unknown'"
   ]
  },
  {
   "cell_type": "code",
   "execution_count": 102,
   "id": "68ed5097-f900-404e-9960-d7b04e07a4b2",
   "metadata": {},
   "outputs": [],
   "source": [
    "# Preview data\n",
    "tz_counts = clean_tz.value_counts()"
   ]
  },
  {
   "cell_type": "code",
   "execution_count": 104,
   "id": "1b650313-2820-476c-ad23-229456210149",
   "metadata": {},
   "outputs": [
    {
     "data": {
      "text/plain": [
       "tz\n",
       "America/New_York       1251\n",
       "Unknown                 521\n",
       "America/Chicago         400\n",
       "America/Los_Angeles     382\n",
       "America/Denver          191\n",
       "Missing                 120\n",
       "Europe/London            74\n",
       "Asia/Tokyo               37\n",
       "Pacific/Honolulu         36\n",
       "Europe/Madrid            35\n",
       "Name: count, dtype: int64"
      ]
     },
     "execution_count": 104,
     "metadata": {},
     "output_type": "execute_result"
    }
   ],
   "source": [
    "tz_counts[:10]"
   ]
  },
  {
   "cell_type": "code",
   "execution_count": 106,
   "id": "ae665388-b62f-4c02-a05f-305c4f0a4b20",
   "metadata": {},
   "outputs": [],
   "source": [
    "# Utilize the Seaborn package for visualization via a horizontal bar plot. \n",
    "import seaborn as sns"
   ]
  },
  {
   "cell_type": "code",
   "execution_count": 108,
   "id": "ec64bba2-addc-473f-9b00-15ce92df987f",
   "metadata": {},
   "outputs": [],
   "source": [
    "subset = tz_counts[:10]"
   ]
  },
  {
   "cell_type": "code",
   "execution_count": 118,
   "id": "dd4baa30-c7b8-4d8a-8d9f-217b3633bde7",
   "metadata": {},
   "outputs": [
    {
     "data": {
      "text/plain": [
       "<Axes: ylabel='tz'>"
      ]
     },
     "execution_count": 118,
     "metadata": {},
     "output_type": "execute_result"
    },
    {
     "data": {
      "image/png": "[encoded data removed]",
      "text/plain": [
       "<Figure size 640x480 with 1 Axes>"
      ]
     },
     "metadata": {},
     "output_type": "display_data"
    }
   ],
   "source": [
    "sns.barplot(y=subset.index, x=subset.values, palette='husl', hue=subset.index)"
   ]
  },
  {
   "cell_type": "code",
   "execution_count": null,
   "id": "3bef1d74-6b23-4bb7-a6c8-7cad0c748ec7",
   "metadata": {},
   "outputs": [],
   "source": []
  }
 ],
 "metadata": {
  "kernelspec": {
   "display_name": "Python [conda env:base] *",
   "language": "python",
   "name": "conda-base-py"
  },
  "language_info": {
   "codemirror_mode": {
    "name": "ipython",
    "version": 3
   },
   "file_extension": ".py",
   "mimetype": "text/x-python",
   "name": "python",
   "nbconvert_exporter": "python",
   "pygments_lexer": "ipython3",
   "version": "3.12.7"
  }
 },
 "nbformat": 4,
 "nbformat_minor": 5
}
